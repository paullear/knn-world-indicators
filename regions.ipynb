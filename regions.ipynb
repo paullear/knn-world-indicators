{
 "cells": [
  {
   "cell_type": "code",
   "execution_count": 36,
   "metadata": {},
   "outputs": [],
   "source": [
    "#Blast Analytics\n",
    "#This is a KNN modeling effort using a subset of the Tableau World Indivators data set "
   ]
  },
  {
   "cell_type": "code",
   "execution_count": 52,
   "metadata": {},
   "outputs": [
    {
     "data": {
      "text/html": [
       "<div>\n",
       "<style scoped>\n",
       "    .dataframe tbody tr th:only-of-type {\n",
       "        vertical-align: middle;\n",
       "    }\n",
       "\n",
       "    .dataframe tbody tr th {\n",
       "        vertical-align: top;\n",
       "    }\n",
       "\n",
       "    .dataframe thead th {\n",
       "        text-align: right;\n",
       "    }\n",
       "</style>\n",
       "<table border=\"1\" class=\"dataframe\">\n",
       "  <thead>\n",
       "    <tr style=\"text-align: right;\">\n",
       "      <th></th>\n",
       "      <th>Region</th>\n",
       "      <th>Birth Rate</th>\n",
       "      <th>CO2 Emissions</th>\n",
       "      <th>Energy Usage</th>\n",
       "      <th>GDP</th>\n",
       "      <th>Health Exp/Capita</th>\n",
       "      <th>Lending Interest</th>\n",
       "      <th>Life Expectancy Female</th>\n",
       "      <th>Life Expectancy Male</th>\n",
       "      <th>Population Total</th>\n",
       "    </tr>\n",
       "  </thead>\n",
       "  <tbody>\n",
       "    <tr>\n",
       "      <th>0</th>\n",
       "      <td>Africa</td>\n",
       "      <td>0.020</td>\n",
       "      <td>87931.0</td>\n",
       "      <td>26998.0</td>\n",
       "      <td>5.479006e+10</td>\n",
       "      <td>60.0</td>\n",
       "      <td>0.100</td>\n",
       "      <td>71.0</td>\n",
       "      <td>67.0</td>\n",
       "      <td>31719449</td>\n",
       "    </tr>\n",
       "    <tr>\n",
       "      <th>1</th>\n",
       "      <td>Africa</td>\n",
       "      <td>0.050</td>\n",
       "      <td>9542.0</td>\n",
       "      <td>7499.0</td>\n",
       "      <td>9.129595e+09</td>\n",
       "      <td>22.0</td>\n",
       "      <td>1.032</td>\n",
       "      <td>47.0</td>\n",
       "      <td>44.0</td>\n",
       "      <td>13924930</td>\n",
       "    </tr>\n",
       "    <tr>\n",
       "      <th>3</th>\n",
       "      <td>Africa</td>\n",
       "      <td>0.027</td>\n",
       "      <td>4276.0</td>\n",
       "      <td>1836.0</td>\n",
       "      <td>5.788312e+09</td>\n",
       "      <td>152.0</td>\n",
       "      <td>0.155</td>\n",
       "      <td>52.0</td>\n",
       "      <td>49.0</td>\n",
       "      <td>1755375</td>\n",
       "    </tr>\n",
       "    <tr>\n",
       "      <th>6</th>\n",
       "      <td>Africa</td>\n",
       "      <td>0.041</td>\n",
       "      <td>3432.0</td>\n",
       "      <td>6310.0</td>\n",
       "      <td>9.287368e+09</td>\n",
       "      <td>26.0</td>\n",
       "      <td>0.220</td>\n",
       "      <td>53.0</td>\n",
       "      <td>51.0</td>\n",
       "      <td>15927713</td>\n",
       "    </tr>\n",
       "    <tr>\n",
       "      <th>11</th>\n",
       "      <td>Africa</td>\n",
       "      <td>0.039</td>\n",
       "      <td>1049.0</td>\n",
       "      <td>814.0</td>\n",
       "      <td>3.219911e+09</td>\n",
       "      <td>22.0</td>\n",
       "      <td>0.220</td>\n",
       "      <td>53.0</td>\n",
       "      <td>51.0</td>\n",
       "      <td>3126204</td>\n",
       "    </tr>\n",
       "  </tbody>\n",
       "</table>\n",
       "</div>"
      ],
      "text/plain": [
       "    Region  Birth Rate  CO2 Emissions  Energy Usage           GDP  \\\n",
       "0   Africa       0.020        87931.0       26998.0  5.479006e+10   \n",
       "1   Africa       0.050         9542.0        7499.0  9.129595e+09   \n",
       "3   Africa       0.027         4276.0        1836.0  5.788312e+09   \n",
       "6   Africa       0.041         3432.0        6310.0  9.287368e+09   \n",
       "11  Africa       0.039         1049.0         814.0  3.219911e+09   \n",
       "\n",
       "    Health Exp/Capita  Lending Interest  Life Expectancy Female  \\\n",
       "0                60.0             0.100                    71.0   \n",
       "1                22.0             1.032                    47.0   \n",
       "3               152.0             0.155                    52.0   \n",
       "6                26.0             0.220                    53.0   \n",
       "11               22.0             0.220                    53.0   \n",
       "\n",
       "    Life Expectancy Male  Population Total  \n",
       "0                   67.0          31719449  \n",
       "1                   44.0          13924930  \n",
       "3                   49.0           1755375  \n",
       "6                   51.0          15927713  \n",
       "11                  51.0           3126204  "
      ]
     },
     "execution_count": 52,
     "metadata": {},
     "output_type": "execute_result"
    }
   ],
   "source": [
    "import pandas as pd\n",
    "#READ DATA\n",
    "dfr = pd.read_csv('data/regions.csv')\n",
    "df = dfr.dropna()\n",
    "df.head()"
   ]
  },
  {
   "cell_type": "code",
   "execution_count": 53,
   "metadata": {},
   "outputs": [
    {
     "data": {
      "text/plain": [
       "False"
      ]
     },
     "execution_count": 53,
     "metadata": {},
     "output_type": "execute_result"
    }
   ],
   "source": [
    "df.isnull().values.any()"
   ]
  },
  {
   "cell_type": "code",
   "execution_count": 54,
   "metadata": {},
   "outputs": [
    {
     "data": {
      "text/plain": [
       "array(['Africa', 'Asia', 'Europe', 'Middle East', 'Oceania',\n",
       "       'The Americas'], dtype=object)"
      ]
     },
     "execution_count": 54,
     "metadata": {},
     "output_type": "execute_result"
    }
   ],
   "source": [
    "df['Region'].unique()"
   ]
  },
  {
   "cell_type": "code",
   "execution_count": 55,
   "metadata": {},
   "outputs": [
    {
     "data": {
      "image/png": "[encoded data removed]",
      "text/plain": [
       "<Figure size 457.75x360 with 1 Axes>"
      ]
     },
     "metadata": {},
     "output_type": "display_data"
    }
   ],
   "source": [
    "import seaborn as sns\n",
    "import matplotlib.pyplot as plt\n",
    "#EDA - individual scatter\n",
    "sns.set_style(\"whitegrid\");\n",
    "sns.FacetGrid(df, hue='Region', height=5) \\\n",
    ".map(plt.scatter, \"Region\", \"Population Total\") \\\n",
    ".add_legend();"
   ]
  },
  {
   "cell_type": "code",
   "execution_count": 56,
   "metadata": {},
   "outputs": [],
   "source": [
    "#EDA - other plots\n",
    "#.map(plt.scatter, \"Region\", \"Birth Rate\") \\\n",
    "#.map(plt.scatter, \"Region\", \"CO2 Emissions\") \\\n",
    "#.map(plt.scatter, \"Region\", \"Energy Usage\") \\\n",
    "#.map(plt.scatter, \"Region\", \"GDP\") \\\n",
    "#.map(plt.scatter, \"Region\", \"Health Exp/Capita\") \\\n",
    "#.map(plt.scatter, \"Region\", \"Lending Interest\") \\\n",
    "#.map(plt.scatter, \"Region\", \"Life Expectancy Female\") \\\n",
    "#.map(plt.scatter, \"Region\", \"Life Expectancy Male\") \\\n",
    "#.map(plt.scatter, \"Region\", \"Population Total\") \\"
   ]
  },
  {
   "cell_type": "code",
   "execution_count": 57,
   "metadata": {},
   "outputs": [
    {
     "data": {
      "text/html": [
       "<div>\n",
       "<style scoped>\n",
       "    .dataframe tbody tr th:only-of-type {\n",
       "        vertical-align: middle;\n",
       "    }\n",
       "\n",
       "    .dataframe tbody tr th {\n",
       "        vertical-align: top;\n",
       "    }\n",
       "\n",
       "    .dataframe thead th {\n",
       "        text-align: right;\n",
       "    }\n",
       "</style>\n",
       "<table border=\"1\" class=\"dataframe\">\n",
       "  <thead>\n",
       "    <tr style=\"text-align: right;\">\n",
       "      <th></th>\n",
       "      <th>Birth Rate</th>\n",
       "      <th>CO2 Emissions</th>\n",
       "      <th>Energy Usage</th>\n",
       "      <th>GDP</th>\n",
       "      <th>Health Exp/Capita</th>\n",
       "      <th>Lending Interest</th>\n",
       "      <th>Life Expectancy Female</th>\n",
       "      <th>Life Expectancy Male</th>\n",
       "      <th>Population Total</th>\n",
       "    </tr>\n",
       "  </thead>\n",
       "  <tbody>\n",
       "    <tr>\n",
       "      <th>0</th>\n",
       "      <td>0.285714</td>\n",
       "      <td>0.010610</td>\n",
       "      <td>0.010720</td>\n",
       "      <td>0.003655</td>\n",
       "      <td>0.006380</td>\n",
       "      <td>0.080577</td>\n",
       "      <td>0.659091</td>\n",
       "      <td>0.543478</td>\n",
       "      <td>0.023652</td>\n",
       "    </tr>\n",
       "    <tr>\n",
       "      <th>1</th>\n",
       "      <td>1.000000</td>\n",
       "      <td>0.001151</td>\n",
       "      <td>0.002972</td>\n",
       "      <td>0.000603</td>\n",
       "      <td>0.001972</td>\n",
       "      <td>0.871077</td>\n",
       "      <td>0.113636</td>\n",
       "      <td>0.043478</td>\n",
       "      <td>0.010349</td>\n",
       "    </tr>\n",
       "    <tr>\n",
       "      <th>2</th>\n",
       "      <td>0.452381</td>\n",
       "      <td>0.000515</td>\n",
       "      <td>0.000722</td>\n",
       "      <td>0.000380</td>\n",
       "      <td>0.017051</td>\n",
       "      <td>0.127226</td>\n",
       "      <td>0.227273</td>\n",
       "      <td>0.152174</td>\n",
       "      <td>0.001251</td>\n",
       "    </tr>\n",
       "    <tr>\n",
       "      <th>3</th>\n",
       "      <td>0.785714</td>\n",
       "      <td>0.000413</td>\n",
       "      <td>0.002500</td>\n",
       "      <td>0.000613</td>\n",
       "      <td>0.002436</td>\n",
       "      <td>0.182358</td>\n",
       "      <td>0.250000</td>\n",
       "      <td>0.195652</td>\n",
       "      <td>0.011846</td>\n",
       "    </tr>\n",
       "    <tr>\n",
       "      <th>4</th>\n",
       "      <td>0.738095</td>\n",
       "      <td>0.000126</td>\n",
       "      <td>0.000316</td>\n",
       "      <td>0.000208</td>\n",
       "      <td>0.001972</td>\n",
       "      <td>0.182358</td>\n",
       "      <td>0.250000</td>\n",
       "      <td>0.195652</td>\n",
       "      <td>0.002276</td>\n",
       "    </tr>\n",
       "  </tbody>\n",
       "</table>\n",
       "</div>"
      ],
      "text/plain": [
       "   Birth Rate  CO2 Emissions  Energy Usage       GDP  Health Exp/Capita  \\\n",
       "0    0.285714       0.010610      0.010720  0.003655           0.006380   \n",
       "1    1.000000       0.001151      0.002972  0.000603           0.001972   \n",
       "2    0.452381       0.000515      0.000722  0.000380           0.017051   \n",
       "3    0.785714       0.000413      0.002500  0.000613           0.002436   \n",
       "4    0.738095       0.000126      0.000316  0.000208           0.001972   \n",
       "\n",
       "   Lending Interest  Life Expectancy Female  Life Expectancy Male  \\\n",
       "0          0.080577                0.659091              0.543478   \n",
       "1          0.871077                0.113636              0.043478   \n",
       "2          0.127226                0.227273              0.152174   \n",
       "3          0.182358                0.250000              0.195652   \n",
       "4          0.182358                0.250000              0.195652   \n",
       "\n",
       "   Population Total  \n",
       "0          0.023652  \n",
       "1          0.010349  \n",
       "2          0.001251  \n",
       "3          0.011846  \n",
       "4          0.002276  "
      ]
     },
     "execution_count": 57,
     "metadata": {},
     "output_type": "execute_result"
    }
   ],
   "source": [
    "from sklearn import preprocessing\n",
    "#NORMALIZATION\n",
    "x_data = df.drop(['Region'],axis=1)\n",
    "y_data = df['Region']\n",
    "MinMaxScaler = preprocessing.MinMaxScaler()\n",
    "X_data_minmax = MinMaxScaler.fit_transform(x_data)\n",
    "data = pd.DataFrame(X_data_minmax,columns=['Birth Rate','CO2 Emissions','Energy Usage','GDP','Health Exp/Capita',\\\n",
    "                                               'Lending Interest','Life Expectancy Female','Life Expectancy Male',\\\n",
    "                                               'Population Total'])\n",
    "data.head()"
   ]
  },
  {
   "cell_type": "code",
   "execution_count": 58,
   "metadata": {},
   "outputs": [
    {
     "data": {
      "text/plain": [
       "{'algorithm': 'auto',\n",
       " 'leaf_size': 30,\n",
       " 'metric': 'minkowski',\n",
       " 'metric_params': None,\n",
       " 'n_jobs': None,\n",
       " 'n_neighbors': 5,\n",
       " 'p': 2,\n",
       " 'weights': 'uniform'}"
      ]
     },
     "execution_count": 58,
     "metadata": {},
     "output_type": "execute_result"
    }
   ],
   "source": [
    "from sklearn.model_selection import train_test_split\n",
    "from sklearn.neighbors import KNeighborsClassifier\n",
    "#TRAIN\n",
    "X_train, X_test, y_train, y_test = train_test_split(data, y_data,test_size=0.2, random_state = 1)\n",
    "knn_clf=KNeighborsClassifier()\n",
    "knn_clf.fit(X_train,y_train)\n",
    "ypred=knn_clf.predict(X_test) \n",
    "\n",
    "#MODEL PARAMETERS\n",
    "knn_clf.get_params()"
   ]
  },
  {
   "cell_type": "code",
   "execution_count": 59,
   "metadata": {},
   "outputs": [
    {
     "name": "stdout",
     "output_type": "stream",
     "text": [
      "Matrix 1 - Training/Testing\n",
      "Confusion Matrix:\n",
      "[[40  1  0  1  0  0]\n",
      " [ 0 38  3  3  0  3]\n",
      " [ 0  4 56  0  0  1]\n",
      " [ 0  0  1 15  0  1]\n",
      " [ 0  0  0  0  9  0]\n",
      " [ 1  1  3  1  0 59]]\n",
      "Classification Report:\n",
      "              precision    recall  f1-score   support\n",
      "\n",
      "      Africa       0.98      0.95      0.96        42\n",
      "        Asia       0.86      0.81      0.84        47\n",
      "      Europe       0.89      0.92      0.90        61\n",
      " Middle East       0.75      0.88      0.81        17\n",
      "     Oceania       1.00      1.00      1.00         9\n",
      "The Americas       0.92      0.91      0.91        65\n",
      "\n",
      "    accuracy                           0.90       241\n",
      "   macro avg       0.90      0.91      0.90       241\n",
      "weighted avg       0.90      0.90      0.90       241\n",
      "\n",
      "Accuracy: 0.9004149377593361\n"
     ]
    }
   ],
   "source": [
    "from sklearn.metrics import confusion_matrix, classification_report, accuracy_score\n",
    "#RESULTS\n",
    "print(\"Matrix 1 - Training/Testing\")\n",
    "result = confusion_matrix(y_test, ypred)\n",
    "print(\"Confusion Matrix:\")\n",
    "print(result)\n",
    "result1 = classification_report(y_test, ypred)\n",
    "print(\"Classification Report:\")\n",
    "print (result1)\n",
    "result2 = accuracy_score(y_test,ypred)\n",
    "print(\"Accuracy:\",result2)"
   ]
  },
  {
   "cell_type": "code",
   "execution_count": 60,
   "metadata": {},
   "outputs": [
    {
     "data": {
      "text/html": [
       "<div>\n",
       "<style scoped>\n",
       "    .dataframe tbody tr th:only-of-type {\n",
       "        vertical-align: middle;\n",
       "    }\n",
       "\n",
       "    .dataframe tbody tr th {\n",
       "        vertical-align: top;\n",
       "    }\n",
       "\n",
       "    .dataframe thead th {\n",
       "        text-align: right;\n",
       "    }\n",
       "</style>\n",
       "<table border=\"1\" class=\"dataframe\">\n",
       "  <thead>\n",
       "    <tr style=\"text-align: right;\">\n",
       "      <th></th>\n",
       "      <th>Region</th>\n",
       "      <th>Birth Rate</th>\n",
       "      <th>CO2 Emissions</th>\n",
       "      <th>Energy Usage</th>\n",
       "      <th>GDP</th>\n",
       "      <th>Health Exp/Capita</th>\n",
       "      <th>Lending Interest</th>\n",
       "      <th>Life Expectancy Female</th>\n",
       "      <th>Life Expectancy Male</th>\n",
       "      <th>Population Total</th>\n",
       "    </tr>\n",
       "  </thead>\n",
       "  <tbody>\n",
       "    <tr>\n",
       "      <th>0</th>\n",
       "      <td>Unknown</td>\n",
       "      <td>0.009</td>\n",
       "      <td>53469</td>\n",
       "      <td>24695</td>\n",
       "      <td>12736856485</td>\n",
       "      <td>64</td>\n",
       "      <td>0.677</td>\n",
       "      <td>75</td>\n",
       "      <td>63</td>\n",
       "      <td>10005000</td>\n",
       "    </tr>\n",
       "  </tbody>\n",
       "</table>\n",
       "</div>"
      ],
      "text/plain": [
       "    Region  Birth Rate  CO2 Emissions  Energy Usage          GDP  \\\n",
       "0  Unknown       0.009          53469         24695  12736856485   \n",
       "\n",
       "   Health Exp/Capita  Lending Interest  Life Expectancy Female  \\\n",
       "0                 64             0.677                      75   \n",
       "\n",
       "   Life Expectancy Male  Population Total  \n",
       "0                    63          10005000  "
      ]
     },
     "execution_count": 60,
     "metadata": {},
     "output_type": "execute_result"
    }
   ],
   "source": [
    "#READ UNKNOWN DATA\n",
    "dfr = pd.read_csv('data/unknown.csv')\n",
    "dfu = dfr.dropna()\n",
    "dfu.head()"
   ]
  },
  {
   "cell_type": "code",
   "execution_count": 61,
   "metadata": {},
   "outputs": [
    {
     "data": {
      "text/html": [
       "<div>\n",
       "<style scoped>\n",
       "    .dataframe tbody tr th:only-of-type {\n",
       "        vertical-align: middle;\n",
       "    }\n",
       "\n",
       "    .dataframe tbody tr th {\n",
       "        vertical-align: top;\n",
       "    }\n",
       "\n",
       "    .dataframe thead th {\n",
       "        text-align: right;\n",
       "    }\n",
       "</style>\n",
       "<table border=\"1\" class=\"dataframe\">\n",
       "  <thead>\n",
       "    <tr style=\"text-align: right;\">\n",
       "      <th></th>\n",
       "      <th>Region</th>\n",
       "      <th>Birth Rate</th>\n",
       "      <th>CO2 Emissions</th>\n",
       "      <th>Energy Usage</th>\n",
       "      <th>GDP</th>\n",
       "      <th>Health Exp/Capita</th>\n",
       "      <th>Lending Interest</th>\n",
       "      <th>Life Expectancy Female</th>\n",
       "      <th>Life Expectancy Male</th>\n",
       "      <th>Population Total</th>\n",
       "    </tr>\n",
       "  </thead>\n",
       "  <tbody>\n",
       "    <tr>\n",
       "      <th>0</th>\n",
       "      <td>Unknown</td>\n",
       "      <td>0.009</td>\n",
       "      <td>53469.0</td>\n",
       "      <td>24695.0</td>\n",
       "      <td>1.273686e+10</td>\n",
       "      <td>64.0</td>\n",
       "      <td>0.677</td>\n",
       "      <td>75.0</td>\n",
       "      <td>63.0</td>\n",
       "      <td>10005000</td>\n",
       "    </tr>\n",
       "    <tr>\n",
       "      <th>1</th>\n",
       "      <td>Africa</td>\n",
       "      <td>0.020</td>\n",
       "      <td>87931.0</td>\n",
       "      <td>26998.0</td>\n",
       "      <td>5.479006e+10</td>\n",
       "      <td>60.0</td>\n",
       "      <td>0.100</td>\n",
       "      <td>71.0</td>\n",
       "      <td>67.0</td>\n",
       "      <td>31719449</td>\n",
       "    </tr>\n",
       "    <tr>\n",
       "      <th>2</th>\n",
       "      <td>Africa</td>\n",
       "      <td>0.050</td>\n",
       "      <td>9542.0</td>\n",
       "      <td>7499.0</td>\n",
       "      <td>9.129595e+09</td>\n",
       "      <td>22.0</td>\n",
       "      <td>1.032</td>\n",
       "      <td>47.0</td>\n",
       "      <td>44.0</td>\n",
       "      <td>13924930</td>\n",
       "    </tr>\n",
       "    <tr>\n",
       "      <th>3</th>\n",
       "      <td>Africa</td>\n",
       "      <td>0.027</td>\n",
       "      <td>4276.0</td>\n",
       "      <td>1836.0</td>\n",
       "      <td>5.788312e+09</td>\n",
       "      <td>152.0</td>\n",
       "      <td>0.155</td>\n",
       "      <td>52.0</td>\n",
       "      <td>49.0</td>\n",
       "      <td>1755375</td>\n",
       "    </tr>\n",
       "    <tr>\n",
       "      <th>4</th>\n",
       "      <td>Africa</td>\n",
       "      <td>0.041</td>\n",
       "      <td>3432.0</td>\n",
       "      <td>6310.0</td>\n",
       "      <td>9.287368e+09</td>\n",
       "      <td>26.0</td>\n",
       "      <td>0.220</td>\n",
       "      <td>53.0</td>\n",
       "      <td>51.0</td>\n",
       "      <td>15927713</td>\n",
       "    </tr>\n",
       "  </tbody>\n",
       "</table>\n",
       "</div>"
      ],
      "text/plain": [
       "    Region  Birth Rate  CO2 Emissions  Energy Usage           GDP  \\\n",
       "0  Unknown       0.009        53469.0       24695.0  1.273686e+10   \n",
       "1   Africa       0.020        87931.0       26998.0  5.479006e+10   \n",
       "2   Africa       0.050         9542.0        7499.0  9.129595e+09   \n",
       "3   Africa       0.027         4276.0        1836.0  5.788312e+09   \n",
       "4   Africa       0.041         3432.0        6310.0  9.287368e+09   \n",
       "\n",
       "   Health Exp/Capita  Lending Interest  Life Expectancy Female  \\\n",
       "0               64.0             0.677                    75.0   \n",
       "1               60.0             0.100                    71.0   \n",
       "2               22.0             1.032                    47.0   \n",
       "3              152.0             0.155                    52.0   \n",
       "4               26.0             0.220                    53.0   \n",
       "\n",
       "   Life Expectancy Male  Population Total  \n",
       "0                  63.0          10005000  \n",
       "1                  67.0          31719449  \n",
       "2                  44.0          13924930  \n",
       "3                  49.0           1755375  \n",
       "4                  51.0          15927713  "
      ]
     },
     "execution_count": 61,
     "metadata": {},
     "output_type": "execute_result"
    }
   ],
   "source": [
    "#PREPEND UNKNOWN DATA TO THE ORIGINAL DATA\n",
    "dfp = dfu.append(df, ignore_index=True)\n",
    "dfp.head()"
   ]
  },
  {
   "cell_type": "code",
   "execution_count": 62,
   "metadata": {},
   "outputs": [],
   "source": [
    "#NORMALIZATION\n",
    "x_data = dfp.drop(['Region'],axis=1)\n",
    "y_data = dfp['Region']\n",
    "MinMaxScaler = preprocessing.MinMaxScaler()\n",
    "X_data_minmax = MinMaxScaler.fit_transform(x_data)\n",
    "data2 = pd.DataFrame(X_data_minmax,columns=['Birth Rate','CO2 Emissions','Energy Usage','GDP','Health Exp/Capita',\\\n",
    "                                                'Lending Interest','Life Expectancy Female','Life Expectancy Male',\\\n",
    "                                                'Population Total'])"
   ]
  },
  {
   "cell_type": "code",
   "execution_count": 63,
   "metadata": {},
   "outputs": [
    {
     "data": {
      "text/html": [
       "<div>\n",
       "<style scoped>\n",
       "    .dataframe tbody tr th:only-of-type {\n",
       "        vertical-align: middle;\n",
       "    }\n",
       "\n",
       "    .dataframe tbody tr th {\n",
       "        vertical-align: top;\n",
       "    }\n",
       "\n",
       "    .dataframe thead th {\n",
       "        text-align: right;\n",
       "    }\n",
       "</style>\n",
       "<table border=\"1\" class=\"dataframe\">\n",
       "  <thead>\n",
       "    <tr style=\"text-align: right;\">\n",
       "      <th></th>\n",
       "      <th>Birth Rate</th>\n",
       "      <th>CO2 Emissions</th>\n",
       "      <th>Energy Usage</th>\n",
       "      <th>GDP</th>\n",
       "      <th>Health Exp/Capita</th>\n",
       "      <th>Lending Interest</th>\n",
       "      <th>Life Expectancy Female</th>\n",
       "      <th>Life Expectancy Male</th>\n",
       "      <th>Population Total</th>\n",
       "    </tr>\n",
       "  </thead>\n",
       "  <tbody>\n",
       "    <tr>\n",
       "      <th>0</th>\n",
       "      <td>0.02381</td>\n",
       "      <td>0.006451</td>\n",
       "      <td>0.009805</td>\n",
       "      <td>0.000844</td>\n",
       "      <td>0.006844</td>\n",
       "      <td>0.569975</td>\n",
       "      <td>0.75</td>\n",
       "      <td>0.456522</td>\n",
       "      <td>0.007419</td>\n",
       "    </tr>\n",
       "  </tbody>\n",
       "</table>\n",
       "</div>"
      ],
      "text/plain": [
       "   Birth Rate  CO2 Emissions  Energy Usage       GDP  Health Exp/Capita  \\\n",
       "0     0.02381       0.006451      0.009805  0.000844           0.006844   \n",
       "\n",
       "   Lending Interest  Life Expectancy Female  Life Expectancy Male  \\\n",
       "0          0.569975                    0.75              0.456522   \n",
       "\n",
       "   Population Total  \n",
       "0          0.007419  "
      ]
     },
     "execution_count": 63,
     "metadata": {},
     "output_type": "execute_result"
    }
   ],
   "source": [
    "#CREATE NEW SINGLE ENTRY\n",
    "data3 = pd.DataFrame(columns=['Birth Rate','CO2 Emissions','Energy Usage','GDP','Health Exp/Capita','Lending Interest','Life Expectancy Female','Life Expectancy Male','Population Total'])\n",
    "data3.loc[0] = data2.iloc[0]\n",
    "data3.head()"
   ]
  },
  {
   "cell_type": "code",
   "execution_count": 64,
   "metadata": {},
   "outputs": [
    {
     "name": "stdout",
     "output_type": "stream",
     "text": [
      "The predicted region is:\n",
      "['Europe']\n"
     ]
    }
   ],
   "source": [
    "#PREDICTIONS\n",
    "zpred=knn_clf.predict(data3)\n",
    "print(\"The predicted region is:\")\n",
    "print(zpred)"
   ]
  },
  {
   "cell_type": "code",
   "execution_count": 65,
   "metadata": {},
   "outputs": [
    {
     "data": {
      "image/png": "[encoded data removed]",
      "text/plain": [
       "<Figure size 457.75x360 with 1 Axes>"
      ]
     },
     "metadata": {},
     "output_type": "display_data"
    }
   ],
   "source": [
    "#VISUALIZE THE CLASSIFIERS\n",
    "sns.set_style(\"whitegrid\");\n",
    "sns.FacetGrid(dfp, hue='Region', height=5) \\\n",
    ".map(plt.scatter, \"Region\", \"Energy Usage\") \\\n",
    ".add_legend();"
   ]
  },
  {
   "cell_type": "code",
   "execution_count": 66,
   "metadata": {},
   "outputs": [],
   "source": [
    "#POST EDA - OTHER CLASSIFIERS TO VISUALIZE\n",
    "#.map(plt.scatter, \"Region\", \"GDP\") \\\n",
    "#.map(plt.scatter, \"Region\", \"Birth Rate\") \\\n",
    "#.map(plt.scatter, \"Region\", \"CO2 Emissions\") \\\n",
    "#.map(plt.scatter, \"Region\", \"Health Exp/Capita\") \\\n",
    "#.map(plt.scatter, \"Region\", \"Lending Interest\") \\\n",
    "#.map(plt.scatter, \"Region\", \"Life Expectancy Female\") \\\n",
    "#.map(plt.scatter, \"Region\", \"Life Expectancy Male\") \\\n",
    "#.map(plt.scatter, \"Region\", \"Population Total\") \\"
   ]
  },
  {
   "cell_type": "code",
   "execution_count": null,
   "metadata": {},
   "outputs": [],
   "source": []
  }
 ],
 "metadata": {
  "kernelspec": {
   "display_name": "Python 3",
   "language": "python",
   "name": "python3"
  },
  "language_info": {
   "codemirror_mode": {
    "name": "ipython",
    "version": 3
   },
   "file_extension": ".py",
   "mimetype": "text/x-python",
   "name": "python",
   "nbconvert_exporter": "python",
   "pygments_lexer": "ipython3",
   "version": "3.7.3"
  }
 },
 "nbformat": 4,
 "nbformat_minor": 2
}
